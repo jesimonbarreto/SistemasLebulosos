{
 "cells": [
  {
   "cell_type": "code",
   "execution_count": 18,
   "metadata": {},
   "outputs": [],
   "source": [
    "import sys\n",
    "import itertools\n",
    "import numpy as np\n",
    "\n",
    "#!pip install torch===1.0.1 -f https://download.pytorch.org/whl/torch_stable.html\n",
    "\n",
    "import torch\n",
    "from torch.utils.data import TensorDataset, DataLoader\n",
    "\n",
    "import anfis\n",
    "from membership import BellMembFunc, make_bell_mfs, GaussMembFunc, make_gauss_mfs\n",
    "from experimental import train_anfis, test_anfis\n",
    "\n",
    "dtype = torch.float\n",
    "\n",
    "from matplotlib import pyplot as plt\n",
    "from matplotlib import cm\n",
    "from matplotlib.ticker import FormatStrFormatter\n",
    "\n",
    "\n",
    "%matplotlib inline\n"
   ]
  },
  {
   "cell_type": "code",
   "execution_count": 19,
   "metadata": {},
   "outputs": [],
   "source": [
    "def sin(x):\n",
    "    return np.sin(x)\n",
    "\n",
    "def noise(x, n = 0, m = .1):\n",
    "    noise = np.random.normal(n, m, x.shape)\n",
    "    return noise\n",
    "\n",
    "def sin_noise(x, erro = 0.1):\n",
    "    y = sin(x)\n",
    "    y = y + noise(y, n = 0, m = y.max()*error)\n",
    "    return y\n",
    "\n",
    "def plot(x, y):\n",
    "    plt.plot(x,y,'ro', label = 'sin')\n",
    "    plt.legend(loc=\"upper right\")\n",
    "    plt.show()"
   ]
  },
  {
   "cell_type": "code",
   "execution_count": 21,
   "metadata": {},
   "outputs": [
    {
     "name": "stdout",
     "output_type": "stream",
     "text": [
      "### Training for 20 epochs, training size = 629 cases\n",
      "epoch    0: MSE=0.25395, RMSE=0.50394 =inf%\n",
      "epoch    1: MSE=0.25068, RMSE=0.50068 =inf%\n",
      "epoch    2: MSE=0.13288, RMSE=0.36452 =inf%\n",
      "epoch    3: MSE=0.06019, RMSE=0.24533 =inf%\n",
      "epoch    4: MSE=0.04566, RMSE=0.21367 =inf%\n",
      "epoch    5: MSE=0.02744, RMSE=0.16565 =inf%\n",
      "epoch    6: MSE=0.02434, RMSE=0.15601 =inf%\n",
      "epoch    7: MSE=0.01936, RMSE=0.13914 =inf%\n",
      "epoch    8: MSE=0.01710, RMSE=0.13077 =inf%\n",
      "epoch    9: MSE=0.01502, RMSE=0.12258 =inf%\n",
      "epoch   10: MSE=0.01257, RMSE=0.11210 =inf%\n",
      "epoch   11: MSE=0.01188, RMSE=0.10899 =inf%\n",
      "epoch   12: MSE=0.01181, RMSE=0.10869 =inf%\n",
      "epoch   13: MSE=0.01128, RMSE=0.10621 =inf%\n",
      "epoch   14: MSE=0.01112, RMSE=0.10546 =inf%\n",
      "epoch   15: MSE=0.01099, RMSE=0.10485 =inf%\n",
      "epoch   16: MSE=0.01063, RMSE=0.10308 =inf%\n",
      "epoch   17: MSE=0.01019, RMSE=0.10096 =inf%\n",
      "epoch   18: MSE=0.01032, RMSE=0.10159 =inf%\n",
      "epoch   19: MSE=0.01004, RMSE=0.10019 =inf%\n"
     ]
    },
    {
     "data": {
      "image/png": "[encoded data removed]",
      "text/plain": [
       "<Figure size 432x288 with 1 Axes>"
      ]
     },
     "metadata": {},
     "output_type": "display_data"
    },
    {
     "data": {
      "image/png": "[encoded data removed]",
      "text/plain": [
       "<Figure size 432x288 with 1 Axes>"
      ]
     },
     "metadata": {},
     "output_type": "display_data"
    }
   ],
   "source": [
    "def make_sin_x(batch_size=1024, noise = 0.1):\n",
    "    '''\n",
    "        Generates a set of (x) values for the sin function.\n",
    "    '''\n",
    "    pts = torch.arange(0, 2*np.pi, 0.01)\n",
    "    x = torch.tensor(list(itertools.product(pts)), dtype=dtype)\n",
    "    if bool(noise):\n",
    "        y = torch.tensor([[sin_noise(p, noise)] for p in x], dtype=dtype)\n",
    "    else:\n",
    "        y = torch.tensor([[sin(p)] for p in x], dtype=dtype)\n",
    "        \n",
    "    td = TensorDataset(x, y)\n",
    "    return DataLoader(td, batch_size=batch_size, shuffle=True)\n",
    "\n",
    "def make_sinc_xy(batch_size=1024):\n",
    "    '''\n",
    "        Generates a set of (x, y) values for the sync function.\n",
    "        Use the range (-10,10) that was used in sec. V of Jang's paper.\n",
    "    '''\n",
    "    pts = torch.arange(-10, 11, 2)\n",
    "    x = torch.tensor(list(itertools.product(pts, pts)), dtype=dtype)\n",
    "    y = torch.tensor([[sinc(*p)] for p in x], dtype=dtype)\n",
    "    td = TensorDataset(x, y)\n",
    "    return DataLoader(td, batch_size=batch_size, shuffle=True)\n",
    "\n",
    "\n",
    "def ex1_model():\n",
    "    '''\n",
    "        These are the original (untrained) MFS for Jang's example 1.\n",
    "    '''\n",
    "    invardefs = [\n",
    "            ('x0', make_gauss_mfs(0.1, [1.0,2.0]))\n",
    "            ]\n",
    "    outvars = ['y0']\n",
    "    anf = anfis.AnfisNet('Jang\\'s example 1', invardefs, outvars)\n",
    "    return anf\n",
    "\n",
    "\n",
    "model = ex1_model()\n",
    "train_data = make_sin_x(batch_size=10, noise = 0)\n",
    "train_anfis(model, train_data, 20, True)\n",
    "\n",
    "\n"
   ]
  },
  {
   "cell_type": "code",
   "execution_count": null,
   "metadata": {},
   "outputs": [],
   "source": []
  }
 ],
 "metadata": {
  "kernelspec": {
   "display_name": "Python 3",
   "language": "python",
   "name": "python3"
  },
  "language_info": {
   "codemirror_mode": {
    "name": "ipython",
    "version": 3
   },
   "file_extension": ".py",
   "mimetype": "text/x-python",
   "name": "python",
   "nbconvert_exporter": "python",
   "pygments_lexer": "ipython3",
   "version": "3.6.5"
  }
 },
 "nbformat": 4,
 "nbformat_minor": 2
}
