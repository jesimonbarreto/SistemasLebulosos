{
 "cells": [
  {
   "cell_type": "markdown",
   "metadata": {},
   "source": [
    "### Trabalho de Sistemas Nebulosos\n",
    "\n",
    "Dataset: Iris Data Set\n",
    "\n"
   ]
  },
  {
   "cell_type": "markdown",
   "metadata": {},
   "source": [
    "imports das bibliotecas utilizadas"
   ]
  },
  {
   "cell_type": "code",
   "execution_count": 25,
   "metadata": {},
   "outputs": [],
   "source": [
    "%matplotlib inline\n",
    "import matplotlib\n",
    "import numpy as np\n",
    "import matplotlib.pyplot as plt\n",
    "from matplotlib import cm\n",
    "from matplotlib.ticker import FormatStrFormatter\n",
    "from copy import copy\n",
    "import statistics as sts\n",
    "import scipy.stats as st\n",
    "from math import *\n",
    "\n",
    "#!pip install pandas\n",
    "import pandas as pd\n",
    "\n",
    "from sklearn.model_selection import KFold, cross_val_score\n",
    "\n",
    "#!pip install torch===1.0.1 -f https://download.pytorch.org/whl/torch_stable.html\n",
    "import torch\n",
    "from torch.utils.data import TensorDataset, DataLoader\n",
    "\n",
    "import skfuzzy as fuzz\n",
    "\n",
    "import anfis\n",
    "from membership import BellMembFunc, make_bell_mfs, GaussMembFunc, make_gauss_mfs\n",
    "from experimental import *\n",
    "\n",
    "dtype = torch.float\n",
    "\n",
    "from sklearn import preprocessing\n",
    "from sklearn.model_selection import KFold, cross_val_score\n",
    "from sklearn.model_selection import train_test_split\n",
    "from sklearn.preprocessing import LabelEncoder\n",
    "from sklearn.metrics import precision_score\n",
    "from sklearn.metrics import accuracy_score\n",
    "from sklearn.metrics import recall_score\n",
    "from sklearn.metrics import roc_curve, auc\n",
    "from sklearn.metrics import roc_auc_score\n",
    "from sklearn.manifold import TSNE"
   ]
  },
  {
   "cell_type": "markdown",
   "metadata": {},
   "source": [
    "#### Preprocessamento dos dados\n",
    "- Ler dataset, retirar dados que não serão utilizados, mostrar informações\n",
    "- Separar em treino (70%) e test (30%), Normalização de features (0 a 1)\n"
   ]
  },
  {
   "cell_type": "code",
   "execution_count": 26,
   "metadata": {},
   "outputs": [
    {
     "name": "stdout",
     "output_type": "stream",
     "text": [
      "(150,)\n",
      "(150, 4)\n",
      "[0 0 0 0 0 0 0 0 0 0]\n"
     ]
    },
    {
     "data": {
      "text/html": [
       "<div>\n",
       "<style scoped>\n",
       "    .dataframe tbody tr th:only-of-type {\n",
       "        vertical-align: middle;\n",
       "    }\n",
       "\n",
       "    .dataframe tbody tr th {\n",
       "        vertical-align: top;\n",
       "    }\n",
       "\n",
       "    .dataframe thead th {\n",
       "        text-align: right;\n",
       "    }\n",
       "</style>\n",
       "<table border=\"1\" class=\"dataframe\">\n",
       "  <thead>\n",
       "    <tr style=\"text-align: right;\">\n",
       "      <th></th>\n",
       "      <th>SepalLengthCm</th>\n",
       "      <th>SepalWidthCm</th>\n",
       "      <th>PetalLengthCm</th>\n",
       "      <th>PetalWidthCm</th>\n",
       "    </tr>\n",
       "  </thead>\n",
       "  <tbody>\n",
       "    <tr>\n",
       "      <th>0</th>\n",
       "      <td>5.1</td>\n",
       "      <td>3.5</td>\n",
       "      <td>1.4</td>\n",
       "      <td>0.2</td>\n",
       "    </tr>\n",
       "    <tr>\n",
       "      <th>1</th>\n",
       "      <td>4.9</td>\n",
       "      <td>3.0</td>\n",
       "      <td>1.4</td>\n",
       "      <td>0.2</td>\n",
       "    </tr>\n",
       "    <tr>\n",
       "      <th>2</th>\n",
       "      <td>4.7</td>\n",
       "      <td>3.2</td>\n",
       "      <td>1.3</td>\n",
       "      <td>0.2</td>\n",
       "    </tr>\n",
       "    <tr>\n",
       "      <th>3</th>\n",
       "      <td>4.6</td>\n",
       "      <td>3.1</td>\n",
       "      <td>1.5</td>\n",
       "      <td>0.2</td>\n",
       "    </tr>\n",
       "    <tr>\n",
       "      <th>4</th>\n",
       "      <td>5.0</td>\n",
       "      <td>3.6</td>\n",
       "      <td>1.4</td>\n",
       "      <td>0.2</td>\n",
       "    </tr>\n",
       "    <tr>\n",
       "      <th>5</th>\n",
       "      <td>5.4</td>\n",
       "      <td>3.9</td>\n",
       "      <td>1.7</td>\n",
       "      <td>0.4</td>\n",
       "    </tr>\n",
       "    <tr>\n",
       "      <th>6</th>\n",
       "      <td>4.6</td>\n",
       "      <td>3.4</td>\n",
       "      <td>1.4</td>\n",
       "      <td>0.3</td>\n",
       "    </tr>\n",
       "    <tr>\n",
       "      <th>7</th>\n",
       "      <td>5.0</td>\n",
       "      <td>3.4</td>\n",
       "      <td>1.5</td>\n",
       "      <td>0.2</td>\n",
       "    </tr>\n",
       "    <tr>\n",
       "      <th>8</th>\n",
       "      <td>4.4</td>\n",
       "      <td>2.9</td>\n",
       "      <td>1.4</td>\n",
       "      <td>0.2</td>\n",
       "    </tr>\n",
       "    <tr>\n",
       "      <th>9</th>\n",
       "      <td>4.9</td>\n",
       "      <td>3.1</td>\n",
       "      <td>1.5</td>\n",
       "      <td>0.1</td>\n",
       "    </tr>\n",
       "  </tbody>\n",
       "</table>\n",
       "</div>"
      ],
      "text/plain": [
       "   SepalLengthCm  SepalWidthCm  PetalLengthCm  PetalWidthCm\n",
       "0            5.1           3.5            1.4           0.2\n",
       "1            4.9           3.0            1.4           0.2\n",
       "2            4.7           3.2            1.3           0.2\n",
       "3            4.6           3.1            1.5           0.2\n",
       "4            5.0           3.6            1.4           0.2\n",
       "5            5.4           3.9            1.7           0.4\n",
       "6            4.6           3.4            1.4           0.3\n",
       "7            5.0           3.4            1.5           0.2\n",
       "8            4.4           2.9            1.4           0.2\n",
       "9            4.9           3.1            1.5           0.1"
      ]
     },
     "execution_count": 26,
     "metadata": {},
     "output_type": "execute_result"
    }
   ],
   "source": [
    "##load no dataset\n",
    "data = pd.read_csv(\"Iris.csv\")\n",
    "data.pop('Id').values\n",
    "data['Species'] = data['Species'].apply(lambda x: int(x =='Iris-setosa'))\n",
    "y = data.pop('Species').values\n",
    "## mostrando valores\n",
    "print(y.shape)\n",
    "print(data.shape)\n",
    "print(y[-10:])\n",
    "data.head(10)"
   ]
  },
  {
   "cell_type": "code",
   "execution_count": 27,
   "metadata": {},
   "outputs": [
    {
     "name": "stdout",
     "output_type": "stream",
     "text": [
      "Tamanho do vetor X: (150, 4)\n",
      "(105, 4)\n",
      "(45, 4)\n"
     ]
    }
   ],
   "source": [
    "\n",
    "#Pegando as features de cada amostra para treinar\n",
    "X = data.values\n",
    "print('Tamanho do vetor X: {}'.format(X.shape))#Dividindo em 5 partes de treino e teste, ou seja, 5 folds\n",
    "#Dividir entre 70% treino e 30% teste\n",
    "X_train, X_test, Y_train, Y_test = train_test_split(X, y, test_size=0.3, random_state=42)\n",
    "##Normalização das features\n",
    "min_max_scaler = preprocessing.MinMaxScaler(feature_range=(0,1))\n",
    "X_train = min_max_scaler.fit_transform(X_train)\n",
    "X_test = min_max_scaler.transform(X_test)\n",
    "\n",
    "print(X_train.shape)\n",
    "print(X_test.shape)"
   ]
  },
  {
   "cell_type": "markdown",
   "metadata": {},
   "source": [
    "#### Divide a parte do treino em 5 folds para testar os modelos"
   ]
  },
  {
   "cell_type": "code",
   "execution_count": 28,
   "metadata": {},
   "outputs": [
    {
     "name": "stdout",
     "output_type": "stream",
     "text": [
      "Tamanho do vetor das folds:\n",
      "  TRAIN: (84,) TEST: (21,)\n",
      "  TRAIN: (84,) TEST: (21,)\n",
      "  TRAIN: (84,) TEST: (21,)\n",
      "  TRAIN: (84,) TEST: (21,)\n",
      "  TRAIN: (84,) TEST: (21,)\n"
     ]
    }
   ],
   "source": [
    "n_folds = 5\n",
    "kf = KFold(n_splits=n_folds, shuffle=True, random_state=123)\n",
    "print('Tamanho do vetor das folds:')\n",
    "for train, val in kf.split(X_train):\n",
    "    print(\"  TRAIN:\", train.shape, \"TEST:\", val.shape)"
   ]
  },
  {
   "cell_type": "markdown",
   "metadata": {},
   "source": [
    "#### Funções e treinamento do modelo n_folds vezes"
   ]
  },
  {
   "cell_type": "code",
   "execution_count": 29,
   "metadata": {},
   "outputs": [
    {
     "name": "stdout",
     "output_type": "stream",
     "text": [
      "### Training for 30 epochs, training size = 84 cases\n",
      "epoch    0: Erro=0.02026\n",
      "epoch   10: Erro=0.02026\n",
      "epoch   20: Erro=0.02026\n",
      "### Testing for 21 cases\n",
      "Accuracy=100.00%  Precision=100.00% Recall=100.00%\n",
      "### Training for 30 epochs, training size = 84 cases\n",
      "epoch    0: Erro=0.01891\n",
      "epoch   10: Erro=0.01891\n",
      "epoch   20: Erro=0.01891\n",
      "### Testing for 21 cases\n",
      "Accuracy=100.00%  Precision=100.00% Recall=100.00%\n",
      "### Training for 30 epochs, training size = 84 cases\n",
      "epoch    0: Erro=0.01611\n",
      "epoch   10: Erro=0.01611\n",
      "epoch   20: Erro=0.01611\n",
      "### Testing for 21 cases\n",
      "Accuracy=100.00%  Precision=100.00% Recall=100.00%\n",
      "### Training for 30 epochs, training size = 84 cases\n",
      "epoch    0: Erro=0.02003\n",
      "epoch   10: Erro=0.02003\n",
      "epoch   20: Erro=0.02003\n",
      "### Testing for 21 cases\n",
      "Accuracy=100.00%  Precision=100.00% Recall=100.00%\n",
      "### Training for 30 epochs, training size = 84 cases\n",
      "epoch    0: Erro=0.01927\n",
      "epoch   10: Erro=0.01927\n",
      "epoch   20: Erro=0.01927\n",
      "### Testing for 21 cases\n",
      "Accuracy=100.00%  Precision=100.00% Recall=100.00%\n"
     ]
    }
   ],
   "source": [
    "####X,y -> x vetor de (n_samples, features)\n",
    "def our_data(X, y, batch = 1024, shuft= True):\n",
    "    x_t = torch.zeros(X.shape)\n",
    "    y_t = torch.zeros((len(y), 1))\n",
    "    for i in range(len(X)):\n",
    "            x_t[i] = torch.tensor(X[i,:])\n",
    "            y_t[i] = y[i]\n",
    "    dl = DataLoader(TensorDataset(x_t, y_t), batch_size=batch, shuffle=shuft)\n",
    "    return dl\n",
    "\n",
    "##Criar modelo ANFIS\n",
    "def model_Daniel(X_train):\n",
    "    invardefs = []\n",
    "    for i in range(X_train.shape[-1]):\n",
    "        invardefs.append(('x'+str(i), make_gauss_mfs(0.3,[0.7])))\n",
    "\n",
    "    outvars = ['y']\n",
    "    model = anfis.AnfisNet('model_define', invardefs, outvars)\n",
    "    return model\n",
    "\n",
    "#calc accuracy\n",
    "def calc_acc(y_pred, y_actual):\n",
    "    with torch.no_grad():\n",
    "        tot_loss = F.mse_loss(y_pred, y_actual)\n",
    "        rmse = torch.sqrt(tot_loss).item()\n",
    "        perc_loss = torch.mean(100. * torch.abs((y_pred - y_actual)\n",
    "                               / y_actual))\n",
    "    return(tot_loss, rmse, perc_loss)\n",
    "\n",
    "\n",
    "def my_train_anfis_with(model, data, optimizer, criterion,\n",
    "                     epochs=500, show_plots=False):\n",
    "    '''\n",
    "        Train the given model using the given (x,y) data.\n",
    "    '''\n",
    "    errors = []  # Keep a list of these for plotting afterwards\n",
    "    # optimizer = torch.optim.Adam(model.parameters(), lr=1e-4)\n",
    "    print('### Training for {} epochs, training size = {} cases'.\n",
    "          format(epochs, data.dataset.tensors[0].shape[0]))\n",
    "    for t in range(epochs):\n",
    "        # Process each mini-batch in turn:\n",
    "        for x, y_actual in data:\n",
    "            y_pred = model(x)\n",
    "            # Compute and print loss\n",
    "            loss = criterion(y_pred, y_actual)\n",
    "            # Zero gradients, perform a backward pass, and update the weights.\n",
    "            optimizer.zero_grad()\n",
    "            loss.backward()\n",
    "            optimizer.step()\n",
    "        # Epoch ending, so now fit the coefficients based on all data:\n",
    "        x, y_actual = data.dataset.tensors\n",
    "        with torch.no_grad():\n",
    "            model.fit_coeff(x, y_actual)\n",
    "        # Get the error rate for the whole batch:\n",
    "        y_pred = model(x)\n",
    "        mse, rmse, perc_loss = calc_error(y_pred, y_actual)\n",
    "        errors.append(perc_loss)\n",
    "        # Print some progress information as the net is trained:\n",
    "        if epochs < 30 or t % 10 == 0:\n",
    "            print('epoch {:4d}: Erro={:.5f}'\n",
    "                  .format(t, mse))\n",
    "    # End of training, so graph the results:\n",
    "    if show_plots:\n",
    "        plotErrors(errors)\n",
    "        y_actual = data.dataset.tensors[1]\n",
    "        y_pred = model(data.dataset.tensors[0])\n",
    "        plotResults(y_actual, y_pred)\n",
    "\n",
    "        \n",
    "def my_train_model(model, data, epochs=500, show_plots=False):\n",
    "    '''\n",
    "        Train the given model using the given (x,y) data.\n",
    "    '''\n",
    "    optimizer = torch.optim.SGD(model.parameters(), lr=1e-4, momentum=0.99)\n",
    "    criterion = torch.nn.MSELoss(reduction='mean')\n",
    "    my_train_anfis_with(model, data, optimizer, criterion, epochs, show_plots)\n",
    "\n",
    "    \n",
    "def my_test_model(model, data, show_plots=False):\n",
    "    '''\n",
    "        Do a single forward pass with x and compare with y_actual.\n",
    "    '''\n",
    "    x, y_actual = data.dataset.tensors\n",
    "    if show_plots:\n",
    "        plot_all_mfs(model, x)\n",
    "    print('### Testing for {} cases'.format(x.shape[0]))\n",
    "    y_pred = model(x)\n",
    "    y_pred_c = [] \n",
    "    for y_p in y_pred:\n",
    "        if y_p >= 0.5:\n",
    "            y_pred_c.append(1)\n",
    "        else:\n",
    "            y_pred_c.append(0)\n",
    "    y_pred = np.array(y_pred_c)\n",
    "    acc = accuracy_score(y_actual, y_pred)\n",
    "    pre = precision_score(y_actual, y_pred)\n",
    "    recall = recall_score(y_actual, y_pred)\n",
    "    print('Accuracy={:.2f}%  Precision={:.2f}% Recall={:.2f}%'.format(acc*100,pre*100,recall*100))\n",
    "    return acc, pre, recall\n",
    "\n",
    "\n",
    "#define the model\n",
    "epochs = 30\n",
    "show_plots = True\n",
    "ACC, precision, recall = [], [], []\n",
    "\n",
    "for train, val in kf.split(X_train):\n",
    "    x_train, x_val = X_train[train], X_train[val]\n",
    "    y_train, y_val = Y_train[train], Y_train[val]\n",
    "    \n",
    "    \n",
    "    #utilizar modelo de Fuzzy-Cmeans para encontrar os centros iniciais --- IDEIA\n",
    "    \n",
    "    model = model_Daniel(x_train)\n",
    "    train_data = our_data(x_train, y_train)\n",
    "    val_data = our_data(x_val, y_val)\n",
    "    my_train_model(model, train_data, epochs, False)\n",
    "    acc, pre, rec = my_test_model(model, val_data, False)\n",
    "    ACC.append(acc)\n",
    "    precision.append(pre)\n",
    "    recall.append(rec)"
   ]
  },
  {
   "cell_type": "markdown",
   "metadata": {},
   "source": [
    "### Avaliação do Modelo\n",
    "- Foram utilizadas as métricas Acuracia, precisão e revocação.\n",
    "- Foram calculados também o intervalo de confiação com fator de 0.9 das métricas baseadas nas n_folds execuções, para analisar e comparar.\n",
    "\n",
    "O dataset aparentemente se apresenta simples, dado o resultado o resultado em todas as folds."
   ]
  },
  {
   "cell_type": "code",
   "execution_count": 30,
   "metadata": {},
   "outputs": [
    {
     "name": "stdout",
     "output_type": "stream",
     "text": [
      "Mean Accuracy   [1.0000] IC [nan, nan]\n",
      "Mean Recall     [1.0000] IC [nan, nan]\n",
      "Mean Precision  [1.0000] IC [nan, nan]\n",
      "\n"
     ]
    },
    {
     "name": "stderr",
     "output_type": "stream",
     "text": [
      "/home/jesimon/.local/lib/python3.6/site-packages/scipy/stats/_distn_infrastructure.py:1910: RuntimeWarning: invalid value encountered in multiply\n",
      "  lower_bound = self.a * scale + loc\n",
      "/home/jesimon/.local/lib/python3.6/site-packages/scipy/stats/_distn_infrastructure.py:1911: RuntimeWarning: invalid value encountered in multiply\n",
      "  upper_bound = self.b * scale + loc\n"
     ]
    }
   ],
   "source": [
    "ic_acc = st.t.interval(0.9, len(ACC) - 1, loc=np.mean(ACC), scale=st.sem(ACC))\n",
    "ic_recall = st.t.interval(0.9, len(recall) - 1, loc=np.mean(recall), scale=st.sem(recall))\n",
    "ic_pre = st.t.interval(0.9, len(precision) - 1, loc=np.mean(precision), scale=st.sem(precision))\n",
    "print('Mean Accuracy   [{:.4f}] IC [{:.4f}, {:.4f}]'.format(np.mean(ACC), ic_acc[0], ic_acc[1]))\n",
    "print('Mean Recall     [{:.4f}] IC [{:.4f}, {:.4f}]'.format(np.mean(recall), ic_recall[0], ic_recall[1]))\n",
    "print('Mean Precision  [{:.4f}] IC [{:.4f}, {:.4f}]\\n'.format(np.mean(precision), ic_pre[0], ic_pre[1]))"
   ]
  },
  {
   "cell_type": "markdown",
   "metadata": {},
   "source": [
    "#### Plote dos resultados para cada folds\n"
   ]
  },
  {
   "cell_type": "code",
   "execution_count": 31,
   "metadata": {},
   "outputs": [
    {
     "data": {
      "image/png": "[encoded data removed]",
      "text/plain": [
       "<Figure size 432x288 with 1 Axes>"
      ]
     },
     "metadata": {},
     "output_type": "display_data"
    },
    {
     "data": {
      "image/png": "[encoded data removed]",
      "text/plain": [
       "<Figure size 432x288 with 1 Axes>"
      ]
     },
     "metadata": {},
     "output_type": "display_data"
    },
    {
     "data": {
      "image/png": "[encoded data removed]",
      "text/plain": [
       "<Figure size 432x288 with 1 Axes>"
      ]
     },
     "metadata": {},
     "output_type": "display_data"
    }
   ],
   "source": [
    "fig, ax = plt.subplots()\n",
    "ax.plot(ACC)\n",
    "ax.set(xlabel='Fold', ylabel='Accuracy (%)',\n",
    "       title='Acuracia por Fold')\n",
    "plt.show()\n",
    "\n",
    "fig, ax = plt.subplots()\n",
    "ax.plot(recall)\n",
    "ax.set(xlabel='Fold', ylabel='Recall (%)',\n",
    "       title='Recall por Fold')\n",
    "plt.show()\n",
    "\n",
    "fig, ax = plt.subplots()\n",
    "ax.plot(precision)\n",
    "ax.set(xlabel='Fold', ylabel='Precision (%)',\n",
    "       title='Precision por Fold')\n",
    "plt.show()"
   ]
  },
  {
   "cell_type": "markdown",
   "metadata": {},
   "source": [
    "### Avaliação do modelo no teste\n",
    "- Foram utilizadas as mesmas métricas de avaliação do treinamento\n",
    "- Os valores no teste ficaram ainda maiores do que no treinamento, indicando que não houve nenhum tipo de overfitting, do mesmo modo que não está acontecendo underfitting\n",
    "\n",
    "Os resultados derão 100%"
   ]
  },
  {
   "cell_type": "code",
   "execution_count": 32,
   "metadata": {},
   "outputs": [
    {
     "name": "stdout",
     "output_type": "stream",
     "text": [
      "### Testing for 45 cases\n",
      "Accuracy=100.00%  Precision=100.00% Recall=100.00%\n",
      "Accuracy  100.0%\n",
      "Recall    100.0%\n",
      "Precision 100.0%\n"
     ]
    }
   ],
   "source": [
    "test_data = our_data(X_test, Y_test)\n",
    "acc, pre, rec = my_test_model(model, test_data, False)\n",
    "print('Accuracy  {:.1f}%'.format(acc*100))\n",
    "print('Recall    {:.1f}%'.format(rec*100))\n",
    "print('Precision {:.1f}%'.format(pre*100))"
   ]
  },
  {
   "cell_type": "code",
   "execution_count": null,
   "metadata": {},
   "outputs": [],
   "source": []
  }
 ],
 "metadata": {
  "kernelspec": {
   "display_name": "Python 3",
   "language": "python",
   "name": "python3"
  },
  "language_info": {
   "codemirror_mode": {
    "name": "ipython",
    "version": 3
   },
   "file_extension": ".py",
   "mimetype": "text/x-python",
   "name": "python",
   "nbconvert_exporter": "python",
   "pygments_lexer": "ipython3",
   "version": "3.6.5"
  }
 },
 "nbformat": 4,
 "nbformat_minor": 2
}
